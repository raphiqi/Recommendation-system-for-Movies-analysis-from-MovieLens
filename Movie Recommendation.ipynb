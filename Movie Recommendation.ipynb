{
 "cells": [
  {
   "cell_type": "markdown",
   "metadata": {},
   "source": [
    "# MOVIE RECOMMENDATION SYSTEM"
   ]
  },
  {
   "cell_type": "markdown",
   "metadata": {},
   "source": [
    "## 1. BUSINESS UNDERSTANDING \n",
    "\n"
   ]
  },
  {
   "cell_type": "markdown",
   "metadata": {},
   "source": [
    "### Objective"
   ]
  },
  {
   "cell_type": "markdown",
   "metadata": {},
   "source": [
    "Leveraging the MovieLens dataset is to develop a robust movie recommendation system that enhances user engagement and satisfaction within our online movie streaming platform. By effectively recommending movies that align with users' preferences, we aim to increase user retention, drive user-generated content, and boost overall revenue."
   ]
  },
  {
   "cell_type": "markdown",
   "metadata": {},
   "source": [
    "### Data Description "
   ]
  },
  {
   "cell_type": "markdown",
   "metadata": {},
   "source": [
    "The MovieLens dataset, curated by the GroupLens research lab at the University of Minnesota, is a well-established and widely used resource in the field of recommendation systems. It contains a wealth of information, including user ratings, movie metadata, and user profiles, collected over a significant period of time."
   ]
  },
  {
   "cell_type": "markdown",
   "metadata": {},
   "source": [
    "### Problem Definition "
   ]
  },
  {
   "cell_type": "markdown",
   "metadata": {},
   "source": [
    "Our primary business problem is to overcome the challenge of content discovery for users. With an ever-expanding catalog of movies, users often face decision making issues when choosing what to watch. We need to address this by providing tailored movie recommendations based on user preferences, thereby simplifying the selection process and improving user satisfaction."
   ]
  },
  {
   "cell_type": "markdown",
   "metadata": {},
   "source": [
    "### Key Stakeholders"
   ]
  },
  {
   "cell_type": "markdown",
   "metadata": {},
   "source": [
    "#### Users: \n",
    "Our end-users are at the core of our business. We aim to provide them with an enjoyable and personalized movie-watching experience.\n",
    "#### Platform Owners: \n",
    "The success of our recommendation system directly impacts platform owners by increasing user engagement and revenue.\n",
    "#### Content Providers:\n",
    "Enhanced user engagement can attract content providers to collaborate with the platform, enriching their movie catalog.\n",
    "#### Data Scientists and Engineers: \n",
    "The data science and engineering teams play a crucial role in developing, deploying, and maintaining the recommendation system."
   ]
  },
  {
   "cell_type": "markdown",
   "metadata": {},
   "source": [
    "### Solution Approach"
   ]
  },
  {
   "cell_type": "markdown",
   "metadata": {},
   "source": [
    "Our approach is centered around collaborative filtering, a proven recommendation technique. We will analyze user behavior and preferences within the dataset to build models that identify similarities between users and movies. This will enable us to provide personalized movie recommendations."
   ]
  },
  {
   "cell_type": "markdown",
   "metadata": {},
   "source": [
    "### Evaluation Metrics"
   ]
  },
  {
   "cell_type": "markdown",
   "metadata": {},
   "source": [
    "To assess the effectiveness of our recommendation system, we will employ metrics such as Root Mean Squared Error (RMSE), Mean Absolute Error (MAE), Precision, Recall, F1-score, Coverage, and Diversity. These metrics will help us quantify the system's performance in terms of accuracy and relevance."
   ]
  },
  {
   "cell_type": "markdown",
   "metadata": {},
   "source": [
    "### Research Questions?"
   ]
  },
  {
   "cell_type": "markdown",
   "metadata": {},
   "source": [
    "1. What movies might I enjoy watching?\n",
    "    Users can receive personalized movie recommendations based on their past viewing and rating history.\n",
    "\n",
    "2. What are the most popular or highly-rated movies?\n",
    "    The system can provide lists of top-rated or trending movies, helping users discover popular titles.\n",
    "\n",
    "3. Are there movies similar to the ones I've enjoyed in the past?\n",
    "    Users can receive recommendations for movies similar to those they've rated highly, expanding their viewing options.\n",
    "\n",
    "4. How can I discover new movies from genres I like?\n",
    "    The system can suggest movies from specific genres that align with a user's preferences.\n",
    "\n",
    "5. What movies have received critical acclaim or awards?\n",
    "    Users can access recommendations for award-winning or critically acclaimed films.\n",
    "\n",
    "6. What are the top recommendations for a specific user, given their unique tastes?\n",
    "    The system tailors recommendations for individual users based on their historical ratings and preferences.\n",
    "\n",
    "7. How can we improve user engagement and retention on our platform?\n",
    "    For businesses, the recommendation system can increase user engagement by providing relevant content, reducing churn, and increasing user satisfaction.\n",
    "\n",
    "8. What is the diversity and coverage of our recommendations?\n",
    "    Businesses can assess the diversity of recommendations to ensure users are exposed to a wide range of movie genres and styles. Additionally, they can measure how many unique movies in their catalog are being recommended.\n",
    "\n",
    "9. How accurate are our recommendations?\n",
    "    Businesses can evaluate the effectiveness of the recommendation system using metrics such as RMSE, MAE, or precision-recall, determining how closely the system's predictions align with user preferences.\n",
    "\n",
    "10. How can we increase revenue through movie recommendations?\n",
    "    Businesses can leverage the recommendation system to drive movie rentals, subscriptions, or sales, thereby increasing revenue and ROI.\n",
    "\n",
    "11. How can we personalize the user experience and increase user-generated content?\n",
    "    By offering tailored recommendations, businesses can encourage users to rate and review movies, contributing to a richer database of user-generated content."
   ]
  },
  {
   "cell_type": "markdown",
   "metadata": {},
   "source": [
    "### Success Criteria"
   ]
  },
  {
   "cell_type": "markdown",
   "metadata": {},
   "source": [
    "The success of our recommendation system will be measured by improvements in key performance indicators (KPIs) including:\n",
    "\n",
    "1. User Engagement: Increased user engagement through higher interaction with recommended movies.\n",
    "2. User Retention: A decrease in user churn rates, indicating improved user satisfaction.\n",
    "3. Revenue: A significant boost in revenue through increased user subscriptions and movie rentals.\n",
    "4. Content Utilization: A broader range of movies being watched, leading to better utilization of the movie catalog."
   ]
  },
  {
   "cell_type": "markdown",
   "metadata": {},
   "source": [
    "## 2. DATA UNDERSTANDING"
   ]
  },
  {
   "cell_type": "markdown",
   "metadata": {},
   "source": [
    "- The dataset is named \"ml-latest-small\" and is from MovieLens, a movie recommendation service.\n",
    "- It includes 100,836 ratings and 3,683 tag applications across 9,742 movies.\n",
    "- The data was generated by 610 users between March 29, 1996, and September 24, 2018.\n",
    "- The dataset was last generated on September 26, 2018.\n",
    "- Users were selected at random, and their demographic information is not included."
   ]
  },
  {
   "cell_type": "markdown",
   "metadata": {},
   "source": [
    "Movie file :\n",
    "1. movieId - movie reference indicator\n",
    "2. title - this is the movie titles\n",
    "3. genres - movie types"
   ]
  },
  {
   "cell_type": "markdown",
   "metadata": {},
   "source": [
    "Rating file :\n",
    "1. userId - users reference indicator\n",
    "2. movieId \n",
    "3. rating - movie rating \n",
    "4. timestamp - movie online information "
   ]
  },
  {
   "cell_type": "markdown",
   "metadata": {},
   "source": [
    "## 3. IMPORTING LIBRARIES"
   ]
  },
  {
   "cell_type": "code",
   "execution_count": 1,
   "metadata": {},
   "outputs": [],
   "source": [
    "import pandas as pd\n",
    "import numpy as np\n",
    "import re\n",
    "import matplotlib.pyplot as plt\n",
    "from sklearn.model_selection import train_test_split\n",
    "from surprise import Dataset, Reader\n",
    "from surprise import SVD\n",
    "from surprise.model_selection import train_test_split\n",
    "from surprise import accuracy\n",
    "from surprise import Dataset, Reader\n"
   ]
  },
  {
   "cell_type": "markdown",
   "metadata": {},
   "source": [
    "## 4. READING DATA "
   ]
  },
  {
   "cell_type": "markdown",
   "metadata": {},
   "source": [
    "Start by opening the data preferably by using the ratings and movies data"
   ]
  },
  {
   "cell_type": "code",
   "execution_count": 2,
   "metadata": {},
   "outputs": [],
   "source": [
    "# Load the ratings data\n",
    "ratings = pd.read_csv(\"C:\\\\Users\\\\Administrator\\\\Desktop\\\\Moringa\\\\Phase 4\\\\Phase 4 Project Recommendation System\\\\ml-latest-small\\\\ml-latest-small\\\\ratings.csv\")\n",
    "# Load the movies data \n",
    "movies = pd.read_csv(\"C:\\\\Users\\\\Administrator\\\\Desktop\\\\Moringa\\\\Phase 4\\\\Phase 4 Project Recommendation System\\\\ml-latest-small\\\\ml-latest-small\\\\movies.csv\")"
   ]
  },
  {
   "cell_type": "code",
   "execution_count": 3,
   "metadata": {},
   "outputs": [
    {
     "data": {
      "text/html": [
       "<div>\n",
       "<style scoped>\n",
       "    .dataframe tbody tr th:only-of-type {\n",
       "        vertical-align: middle;\n",
       "    }\n",
       "\n",
       "    .dataframe tbody tr th {\n",
       "        vertical-align: top;\n",
       "    }\n",
       "\n",
       "    .dataframe thead th {\n",
       "        text-align: right;\n",
       "    }\n",
       "</style>\n",
       "<table border=\"1\" class=\"dataframe\">\n",
       "  <thead>\n",
       "    <tr style=\"text-align: right;\">\n",
       "      <th></th>\n",
       "      <th>userId</th>\n",
       "      <th>movieId</th>\n",
       "      <th>rating</th>\n",
       "      <th>timestamp</th>\n",
       "    </tr>\n",
       "  </thead>\n",
       "  <tbody>\n",
       "    <tr>\n",
       "      <th>0</th>\n",
       "      <td>1</td>\n",
       "      <td>1</td>\n",
       "      <td>4.0</td>\n",
       "      <td>964982703</td>\n",
       "    </tr>\n",
       "    <tr>\n",
       "      <th>1</th>\n",
       "      <td>1</td>\n",
       "      <td>3</td>\n",
       "      <td>4.0</td>\n",
       "      <td>964981247</td>\n",
       "    </tr>\n",
       "    <tr>\n",
       "      <th>2</th>\n",
       "      <td>1</td>\n",
       "      <td>6</td>\n",
       "      <td>4.0</td>\n",
       "      <td>964982224</td>\n",
       "    </tr>\n",
       "    <tr>\n",
       "      <th>3</th>\n",
       "      <td>1</td>\n",
       "      <td>47</td>\n",
       "      <td>5.0</td>\n",
       "      <td>964983815</td>\n",
       "    </tr>\n",
       "    <tr>\n",
       "      <th>4</th>\n",
       "      <td>1</td>\n",
       "      <td>50</td>\n",
       "      <td>5.0</td>\n",
       "      <td>964982931</td>\n",
       "    </tr>\n",
       "  </tbody>\n",
       "</table>\n",
       "</div>"
      ],
      "text/plain": [
       "   userId  movieId  rating  timestamp\n",
       "0       1        1     4.0  964982703\n",
       "1       1        3     4.0  964981247\n",
       "2       1        6     4.0  964982224\n",
       "3       1       47     5.0  964983815\n",
       "4       1       50     5.0  964982931"
      ]
     },
     "execution_count": 3,
     "metadata": {},
     "output_type": "execute_result"
    }
   ],
   "source": [
    "ratings.head()"
   ]
  },
  {
   "cell_type": "code",
   "execution_count": 4,
   "metadata": {},
   "outputs": [
    {
     "data": {
      "text/html": [
       "<div>\n",
       "<style scoped>\n",
       "    .dataframe tbody tr th:only-of-type {\n",
       "        vertical-align: middle;\n",
       "    }\n",
       "\n",
       "    .dataframe tbody tr th {\n",
       "        vertical-align: top;\n",
       "    }\n",
       "\n",
       "    .dataframe thead th {\n",
       "        text-align: right;\n",
       "    }\n",
       "</style>\n",
       "<table border=\"1\" class=\"dataframe\">\n",
       "  <thead>\n",
       "    <tr style=\"text-align: right;\">\n",
       "      <th></th>\n",
       "      <th>movieId</th>\n",
       "      <th>title</th>\n",
       "      <th>genres</th>\n",
       "    </tr>\n",
       "  </thead>\n",
       "  <tbody>\n",
       "    <tr>\n",
       "      <th>0</th>\n",
       "      <td>1</td>\n",
       "      <td>Toy Story (1995)</td>\n",
       "      <td>Adventure|Animation|Children|Comedy|Fantasy</td>\n",
       "    </tr>\n",
       "    <tr>\n",
       "      <th>1</th>\n",
       "      <td>2</td>\n",
       "      <td>Jumanji (1995)</td>\n",
       "      <td>Adventure|Children|Fantasy</td>\n",
       "    </tr>\n",
       "    <tr>\n",
       "      <th>2</th>\n",
       "      <td>3</td>\n",
       "      <td>Grumpier Old Men (1995)</td>\n",
       "      <td>Comedy|Romance</td>\n",
       "    </tr>\n",
       "    <tr>\n",
       "      <th>3</th>\n",
       "      <td>4</td>\n",
       "      <td>Waiting to Exhale (1995)</td>\n",
       "      <td>Comedy|Drama|Romance</td>\n",
       "    </tr>\n",
       "    <tr>\n",
       "      <th>4</th>\n",
       "      <td>5</td>\n",
       "      <td>Father of the Bride Part II (1995)</td>\n",
       "      <td>Comedy</td>\n",
       "    </tr>\n",
       "  </tbody>\n",
       "</table>\n",
       "</div>"
      ],
      "text/plain": [
       "   movieId                               title  \\\n",
       "0        1                    Toy Story (1995)   \n",
       "1        2                      Jumanji (1995)   \n",
       "2        3             Grumpier Old Men (1995)   \n",
       "3        4            Waiting to Exhale (1995)   \n",
       "4        5  Father of the Bride Part II (1995)   \n",
       "\n",
       "                                        genres  \n",
       "0  Adventure|Animation|Children|Comedy|Fantasy  \n",
       "1                   Adventure|Children|Fantasy  \n",
       "2                               Comedy|Romance  \n",
       "3                         Comedy|Drama|Romance  \n",
       "4                                       Comedy  "
      ]
     },
     "execution_count": 4,
     "metadata": {},
     "output_type": "execute_result"
    }
   ],
   "source": [
    "movies.head()"
   ]
  },
  {
   "cell_type": "markdown",
   "metadata": {},
   "source": [
    "Check for missing data on the dataset"
   ]
  },
  {
   "cell_type": "code",
   "execution_count": 5,
   "metadata": {},
   "outputs": [
    {
     "name": "stdout",
     "output_type": "stream",
     "text": [
      "Ratings Data - Missing Values:\n",
      "userId       0\n",
      "movieId      0\n",
      "rating       0\n",
      "timestamp    0\n",
      "dtype: int64\n",
      "\n",
      "Movies Data - Missing Values:\n",
      "movieId    0\n",
      "title      0\n",
      "genres     0\n",
      "dtype: int64\n"
     ]
    }
   ],
   "source": [
    "print(\"Ratings Data - Missing Values:\")\n",
    "print(ratings.isnull().sum())\n",
    "\n",
    "print(\"\\nMovies Data - Missing Values:\")\n",
    "print(movies.isnull().sum())"
   ]
  },
  {
   "cell_type": "markdown",
   "metadata": {},
   "source": [
    "From the illustration above there are no missing values in the Ratings and Movies data"
   ]
  },
  {
   "cell_type": "markdown",
   "metadata": {},
   "source": [
    "Check for duplicates "
   ]
  },
  {
   "cell_type": "code",
   "execution_count": 6,
   "metadata": {},
   "outputs": [],
   "source": [
    "ratings.drop_duplicates(inplace=True)\n",
    "# outlier handling: Identifying and capping outlier ratings\n",
    "outlier_threshold = 5.0\n",
    "ratings['rating'] = ratings['rating'].clip(0.5, outlier_threshold)"
   ]
  },
  {
   "cell_type": "code",
   "execution_count": 7,
   "metadata": {},
   "outputs": [
    {
     "name": "stdout",
     "output_type": "stream",
     "text": [
      "Consistent movie IDs between movies and ratings datasets. \n"
     ]
    }
   ],
   "source": [
    "# Check data consistency: Ensure that movie IDs are consistent across datasets\n",
    "if movies['movieId'].isin(ratings['movieId']).all():\n",
    "    print(\"Inconsistent movie IDs between movies and ratings datasets.\")\n",
    "else:\n",
    "    print(\"Consistent movie IDs between movies and ratings datasets. \")"
   ]
  },
  {
   "cell_type": "markdown",
   "metadata": {},
   "source": [
    "### Feature Engineering"
   ]
  },
  {
   "cell_type": "code",
   "execution_count": 8,
   "metadata": {},
   "outputs": [],
   "source": [
    "# Calculate the average rating for each movie\n",
    "average_ratings = ratings.groupby('movieId')['rating'].mean().reset_index()\n",
    "average_ratings.rename(columns={'rating': 'avg_rating'}, inplace=True)"
   ]
  },
  {
   "cell_type": "code",
   "execution_count": 9,
   "metadata": {},
   "outputs": [],
   "source": [
    "# Assuming genres are in the \"genres\" column and are pipe-separated\n",
    "unique_genres = set('|'.join(movies['genres']).split('|'))\n",
    "for genre in unique_genres:\n",
    "    movies[genre] = movies['genres'].apply(lambda x: 1 if genre in x else 0)"
   ]
  },
  {
   "cell_type": "code",
   "execution_count": 10,
   "metadata": {},
   "outputs": [
    {
     "name": "stdout",
     "output_type": "stream",
     "text": [
      "Average Ratings for Movies:\n",
      "   movieId  avg_rating\n",
      "0        1    3.920930\n",
      "1        2    3.431818\n",
      "2        3    3.259615\n",
      "3        4    2.357143\n",
      "4        5    3.071429\n",
      "\n",
      "Movies DataFrame with Genre-Based Features:\n",
      "   movieId                               title  \\\n",
      "0        1                    Toy Story (1995)   \n",
      "1        2                      Jumanji (1995)   \n",
      "2        3             Grumpier Old Men (1995)   \n",
      "3        4            Waiting to Exhale (1995)   \n",
      "4        5  Father of the Bride Part II (1995)   \n",
      "\n",
      "                                        genres  Crime  War  Documentary  \\\n",
      "0  Adventure|Animation|Children|Comedy|Fantasy      0    0            0   \n",
      "1                   Adventure|Children|Fantasy      0    0            0   \n",
      "2                               Comedy|Romance      0    0            0   \n",
      "3                         Comedy|Drama|Romance      0    0            0   \n",
      "4                                       Comedy      0    0            0   \n",
      "\n",
      "   Children  IMAX  Horror  Film-Noir  ...  Action  Sci-Fi  Romance  Drama  \\\n",
      "0         1     0       0          0  ...       0       0        0      0   \n",
      "1         1     0       0          0  ...       0       0        0      0   \n",
      "2         0     0       0          0  ...       0       0        1      0   \n",
      "3         0     0       0          0  ...       0       0        1      1   \n",
      "4         0     0       0          0  ...       0       0        0      0   \n",
      "\n",
      "   Western  (no genres listed)  Mystery  Adventure  Fantasy  Animation  \n",
      "0        0                   0        0          1        1          1  \n",
      "1        0                   0        0          1        1          0  \n",
      "2        0                   0        0          0        0          0  \n",
      "3        0                   0        0          0        0          0  \n",
      "4        0                   0        0          0        0          0  \n",
      "\n",
      "[5 rows x 23 columns]\n"
     ]
    }
   ],
   "source": [
    "# Display the first few rows of the resulting DataFrame\n",
    "print(\"Average Ratings for Movies:\")\n",
    "print(average_ratings.head())\n",
    "\n",
    "print(\"\\nMovies DataFrame with Genre-Based Features:\")\n",
    "print(movies.head())"
   ]
  },
  {
   "cell_type": "markdown",
   "metadata": {},
   "source": [
    "Create a feature that counts the number of ratings each movie has received. Movies with a higher number of ratings may be more popular or well-known."
   ]
  },
  {
   "cell_type": "code",
   "execution_count": 11,
   "metadata": {},
   "outputs": [
    {
     "name": "stdout",
     "output_type": "stream",
     "text": [
      "Number of Ratings for Each Movie:\n",
      "   movieId  num_ratings\n",
      "0      356          329\n",
      "1      318          317\n",
      "2      296          307\n",
      "3      593          279\n",
      "4     2571          278\n"
     ]
    }
   ],
   "source": [
    "# Calculate the number of ratings for each movie\n",
    "movie_rating_counts = ratings['movieId'].value_counts().reset_index()\n",
    "movie_rating_counts.columns = ['movieId', 'num_ratings']\n",
    "\n",
    "# Display the first few rows of the resulting DataFrame\n",
    "print(\"Number of Ratings for Each Movie:\")\n",
    "print(movie_rating_counts.head())"
   ]
  },
  {
   "cell_type": "markdown",
   "metadata": {},
   "source": [
    "Genre Based:\n",
    "\n",
    "Create binary columns for each genre (e.g., Action, Comedy, Romance) and indicate whether a movie belongs to a particular genre. These binary indicators can be used in content-based filtering.\n",
    "Calculate the proportion of each genre in a movie's genre list (e.g., the percentage of Action movies)."
   ]
  },
  {
   "cell_type": "code",
   "execution_count": 12,
   "metadata": {},
   "outputs": [
    {
     "name": "stdout",
     "output_type": "stream",
     "text": [
      "Movies DataFrame with Binary Genre-Based Columns:\n",
      "   movieId                               title  \\\n",
      "0        1                    Toy Story (1995)   \n",
      "1        2                      Jumanji (1995)   \n",
      "2        3             Grumpier Old Men (1995)   \n",
      "3        4            Waiting to Exhale (1995)   \n",
      "4        5  Father of the Bride Part II (1995)   \n",
      "\n",
      "                                        genres  Crime  War  Documentary  \\\n",
      "0  Adventure|Animation|Children|Comedy|Fantasy    0.0  0.0          0.0   \n",
      "1                   Adventure|Children|Fantasy    0.0  0.0          0.0   \n",
      "2                               Comedy|Romance    0.0  0.0          0.0   \n",
      "3                         Comedy|Drama|Romance    0.0  0.0          0.0   \n",
      "4                                       Comedy    0.0  0.0          0.0   \n",
      "\n",
      "   Children  IMAX  Horror  Film-Noir  ...  Action  Sci-Fi   Romance     Drama  \\\n",
      "0  0.200000   0.0     0.0        0.0  ...     0.0     0.0  0.000000  0.000000   \n",
      "1  0.333333   0.0     0.0        0.0  ...     0.0     0.0  0.000000  0.000000   \n",
      "2  0.000000   0.0     0.0        0.0  ...     0.0     0.0  0.500000  0.000000   \n",
      "3  0.000000   0.0     0.0        0.0  ...     0.0     0.0  0.333333  0.333333   \n",
      "4  0.000000   0.0     0.0        0.0  ...     0.0     0.0  0.000000  0.000000   \n",
      "\n",
      "   Western  (no genres listed)  Mystery  Adventure   Fantasy  Animation  \n",
      "0      0.0                 0.0      0.0   0.200000  0.200000        0.2  \n",
      "1      0.0                 0.0      0.0   0.333333  0.333333        0.0  \n",
      "2      0.0                 0.0      0.0   0.000000  0.000000        0.0  \n",
      "3      0.0                 0.0      0.0   0.000000  0.000000        0.0  \n",
      "4      0.0                 0.0      0.0   0.000000  0.000000        0.0  \n",
      "\n",
      "[5 rows x 23 columns]\n"
     ]
    }
   ],
   "source": [
    "# Extract unique genres\n",
    "unique_genres = set('|'.join(movies['genres']).split('|'))\n",
    "\n",
    "# Create binary genre-based columns\n",
    "for genre in unique_genres:\n",
    "    movies[genre] = movies['genres'].apply(lambda x: 1 if genre in x else 0)\n",
    "\n",
    "# Calculate the proportion of each genre in a movie's genre list\n",
    "genre_columns = list(unique_genres)\n",
    "movies[genre_columns] = movies[genre_columns].div(movies[genre_columns].sum(axis=1), axis=0)\n",
    "\n",
    "# Display the first few rows of the resulting DataFrame\n",
    "print(\"Movies DataFrame with Binary Genre-Based Columns:\")\n",
    "print(movies.head())"
   ]
  },
  {
   "cell_type": "markdown",
   "metadata": {},
   "source": [
    "Release Year:\n",
    "\n",
    "Extract the release year from movie titles and create a feature for the movie's release year. This can be used to recommend recent movies or movies from a specific era."
   ]
  },
  {
   "cell_type": "code",
   "execution_count": 13,
   "metadata": {},
   "outputs": [
    {
     "name": "stdout",
     "output_type": "stream",
     "text": [
      "Movies DataFrame with Release Year:\n",
      "   movieId                               title  \\\n",
      "0        1                    Toy Story (1995)   \n",
      "1        2                      Jumanji (1995)   \n",
      "2        3             Grumpier Old Men (1995)   \n",
      "3        4            Waiting to Exhale (1995)   \n",
      "4        5  Father of the Bride Part II (1995)   \n",
      "\n",
      "                                        genres  Crime  War  Documentary  \\\n",
      "0  Adventure|Animation|Children|Comedy|Fantasy    0.0  0.0          0.0   \n",
      "1                   Adventure|Children|Fantasy    0.0  0.0          0.0   \n",
      "2                               Comedy|Romance    0.0  0.0          0.0   \n",
      "3                         Comedy|Drama|Romance    0.0  0.0          0.0   \n",
      "4                                       Comedy    0.0  0.0          0.0   \n",
      "\n",
      "   Children  IMAX  Horror  Film-Noir  ...  Sci-Fi   Romance     Drama  \\\n",
      "0  0.200000   0.0     0.0        0.0  ...     0.0  0.000000  0.000000   \n",
      "1  0.333333   0.0     0.0        0.0  ...     0.0  0.000000  0.000000   \n",
      "2  0.000000   0.0     0.0        0.0  ...     0.0  0.500000  0.000000   \n",
      "3  0.000000   0.0     0.0        0.0  ...     0.0  0.333333  0.333333   \n",
      "4  0.000000   0.0     0.0        0.0  ...     0.0  0.000000  0.000000   \n",
      "\n",
      "   Western  (no genres listed)  Mystery  Adventure   Fantasy  Animation  \\\n",
      "0      0.0                 0.0      0.0   0.200000  0.200000        0.2   \n",
      "1      0.0                 0.0      0.0   0.333333  0.333333        0.0   \n",
      "2      0.0                 0.0      0.0   0.000000  0.000000        0.0   \n",
      "3      0.0                 0.0      0.0   0.000000  0.000000        0.0   \n",
      "4      0.0                 0.0      0.0   0.000000  0.000000        0.0   \n",
      "\n",
      "   release_year  \n",
      "0          1995  \n",
      "1          1995  \n",
      "2          1995  \n",
      "3          1995  \n",
      "4          1995  \n",
      "\n",
      "[5 rows x 24 columns]\n"
     ]
    }
   ],
   "source": [
    "# Assuming that the release year is enclosed in parentheses at the end of the title\n",
    "movies['release_year'] = movies['title'].str.extract(r'\\((\\d{4})\\)')\n",
    "\n",
    "# Display the first few rows of the resulting DataFrame\n",
    "print(\"Movies DataFrame with Release Year:\")\n",
    "print(movies.head())"
   ]
  },
  {
   "cell_type": "markdown",
   "metadata": {},
   "source": [
    "User-Based Features:\n",
    "\n",
    "For collaborative filtering, you can create user-based features such as the average rating given by each user or the number of movies each user has rated."
   ]
  },
  {
   "cell_type": "code",
   "execution_count": 14,
   "metadata": {},
   "outputs": [
    {
     "name": "stdout",
     "output_type": "stream",
     "text": [
      "Average Rating Given by Each User:\n",
      "   userId  avg_rating_by_user\n",
      "0       1            4.366379\n",
      "1       2            3.948276\n",
      "2       3            2.435897\n",
      "3       4            3.555556\n",
      "4       5            3.636364\n",
      "\n",
      "Number of Movies Rated by Each User:\n",
      "   userId  num_movies_rated\n",
      "0     414              2698\n",
      "1     599              2478\n",
      "2     474              2108\n",
      "3     448              1864\n",
      "4     274              1346\n"
     ]
    }
   ],
   "source": [
    "# Calculate the average rating given by each user\n",
    "user_avg_rating = ratings.groupby('userId')['rating'].mean().reset_index()\n",
    "user_avg_rating.rename(columns={'rating': 'avg_rating_by_user'}, inplace=True)\n",
    "\n",
    "# Calculate the number of movies each user has rated\n",
    "user_rating_counts = ratings['userId'].value_counts().reset_index()\n",
    "user_rating_counts.columns = ['userId', 'num_movies_rated']\n",
    "\n",
    "# Display the first few rows of the resulting DataFrames\n",
    "print(\"Average Rating Given by Each User:\")\n",
    "print(user_avg_rating.head())\n",
    "\n",
    "print(\"\\nNumber of Movies Rated by Each User:\")\n",
    "print(user_rating_counts.head())"
   ]
  },
  {
   "cell_type": "markdown",
   "metadata": {},
   "source": [
    "Matrix Factorization Features:\n",
    "\n",
    "Generate latent factors or embeddings for movies and users using matrix factorization techniques like Singular Value Decomposition (SVD) or matrix factorization models. These embeddings can be used to capture complex relationships."
   ]
  },
  {
   "cell_type": "code",
   "execution_count": 22,
   "metadata": {},
   "outputs": [
    {
     "name": "stdout",
     "output_type": "stream",
     "text": [
      "RMSE: 0.8775\n",
      "Root Mean Squared Error (RMSE): 0.8774680781839199\n"
     ]
    }
   ],
   "source": [
    "# Define the Reader object\n",
    "reader = Reader(rating_scale=(0.5, 5.0))  # Define your rating scale as appropriate\n",
    "\n",
    "# Load the ratings data using the Reader\n",
    "data = Dataset.load_from_df(ratings[['userId', 'movieId', 'rating']], reader)\n",
    "\n",
    "# Split the dataset into a trainset and testset\n",
    "trainset, testset = train_test_split(data, test_size=0.2, random_state=42)\n",
    "\n",
    "# Create and train an SVD model\n",
    "svd_model = SVD(n_factors=50, random_state=42)\n",
    "svd_model.fit(trainset)\n",
    "\n",
    "# Make predictions on the test set\n",
    "predictions = svd_model.test(testset)\n",
    "\n",
    "# Evaluate the model using RMSE\n",
    "rmse = accuracy.rmse(predictions)\n",
    "print(f\"Root Mean Squared Error (RMSE): {rmse}\")\n",
    "\n",
    "# Get latent factors for movies and users\n",
    "movie_factors = svd_model.qi\n",
    "user_factors = svd_model.pu"
   ]
  },
  {
   "cell_type": "markdown",
   "metadata": {},
   "source": [
    " RMSE value of 0.8775 indicates the average error (or the average difference) between the predicted ratings by the recommendation system and the actual ratings given by users. Lower RMSE values indicate better accuracy, while higher values suggest that the predictions are less accurate."
   ]
  },
  {
   "cell_type": "code",
   "execution_count": null,
   "metadata": {},
   "outputs": [],
   "source": []
  },
  {
   "cell_type": "code",
   "execution_count": null,
   "metadata": {},
   "outputs": [],
   "source": []
  }
 ],
 "metadata": {
  "kernelspec": {
   "display_name": "Python 3 (ipykernel)",
   "language": "python",
   "name": "python3"
  },
  "language_info": {
   "codemirror_mode": {
    "name": "ipython",
    "version": 3
   },
   "file_extension": ".py",
   "mimetype": "text/x-python",
   "name": "python",
   "nbconvert_exporter": "python",
   "pygments_lexer": "ipython3",
   "version": "3.10.11"
  }
 },
 "nbformat": 4,
 "nbformat_minor": 2
}

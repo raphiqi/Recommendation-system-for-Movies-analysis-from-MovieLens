{
 "cells": [
  {
   "cell_type": "markdown",
   "metadata": {},
   "source": [
    "# MOVIE RECOMMENDATION SYSTEM"
   ]
  },
  {
   "cell_type": "markdown",
   "metadata": {},
   "source": [
    "## 1. BUSINESS UNDERSTANDING \n",
    "\n"
   ]
  },
  {
   "cell_type": "markdown",
   "metadata": {},
   "source": [
    "### Objective"
   ]
  },
  {
   "cell_type": "markdown",
   "metadata": {},
   "source": [
    "Leveraging the MovieLens dataset is to develop a robust movie recommendation system that enhances user engagement and satisfaction within our online movie streaming platform. By effectively recommending movies that align with users' preferences, we aim to increase user retention, drive user-generated content, and boost overall revenue."
   ]
  },
  {
   "cell_type": "markdown",
   "metadata": {},
   "source": [
    "### Data Description "
   ]
  },
  {
   "cell_type": "markdown",
   "metadata": {},
   "source": [
    "The MovieLens dataset, curated by the GroupLens research lab at the University of Minnesota, is a well-established and widely used resource in the field of recommendation systems. It contains a wealth of information, including user ratings, movie metadata, and user profiles, collected over a significant period of time."
   ]
  },
  {
   "cell_type": "markdown",
   "metadata": {},
   "source": [
    "### Problem Definition "
   ]
  },
  {
   "cell_type": "markdown",
   "metadata": {},
   "source": [
    "Our primary business problem is to overcome the challenge of content discovery for users. With an ever-expanding catalog of movies, users often face decision making issues when choosing what to watch. We need to address this by providing tailored movie recommendations based on user preferences, thereby simplifying the selection process and improving user satisfaction."
   ]
  },
  {
   "cell_type": "markdown",
   "metadata": {},
   "source": [
    "### Key Stakeholders"
   ]
  },
  {
   "cell_type": "markdown",
   "metadata": {},
   "source": [
    "#### Users: \n",
    "Our end-users are at the core of our business. We aim to provide them with an enjoyable and personalized movie-watching experience.\n",
    "#### Platform Owners: \n",
    "The success of our recommendation system directly impacts platform owners (MovieLens) by increasing user engagement and revenue.\n",
    "#### Content Providers:\n",
    "Enhanced user engagement can attract content providers to collaborate with the platform, enriching their movie catalog.\n",
    "#### Data Scientists and Engineers: \n",
    "The data science and engineering teams play a crucial role in developing, deploying, and maintaining the recommendation system."
   ]
  },
  {
   "cell_type": "markdown",
   "metadata": {},
   "source": [
    "### Solution Approach"
   ]
  },
  {
   "cell_type": "markdown",
   "metadata": {},
   "source": [
    "Our approach is centered around collaborative filtering, a proven recommendation technique. We will analyze user behavior and preferences within the dataset to build models that identify similarities between users and movies. This will enable us to provide personalized movie recommendations."
   ]
  },
  {
   "cell_type": "markdown",
   "metadata": {},
   "source": [
    "### Evaluation Metrics"
   ]
  },
  {
   "cell_type": "markdown",
   "metadata": {},
   "source": [
    "To assess the effectiveness of our recommendation system, we will employ metrics such as Root Mean Squared Error (RMSE), Mean Absolute Error (MAE), Precision, Recall, F1-score, Coverage, and Diversity. These metrics will help us quantify the system's performance in terms of accuracy and relevance."
   ]
  },
  {
   "cell_type": "markdown",
   "metadata": {},
   "source": [
    "### Research Questions?"
   ]
  },
  {
   "cell_type": "markdown",
   "metadata": {},
   "source": [
    "1. What movies might I enjoy watching?\n",
    "    Users can receive personalized movie recommendations based on their past viewing and rating history.\n",
    "\n",
    "2. What are the most popular or highly-rated movies?\n",
    "    The system can provide lists of top-rated or trending movies, helping users discover popular titles.\n",
    "\n",
    "3. Are there movies similar to the ones I've enjoyed in the past?\n",
    "    Users can receive recommendations for movies similar to those they've rated highly, expanding their viewing options.\n",
    "\n",
    "4. How can I discover new movies from genres I like?\n",
    "    The system can suggest movies from specific genres that align with a user's preferences.\n",
    "\n",
    "5. What movies have received critical acclaim or awards?\n",
    "    Users can access recommendations for award-winning or critically acclaimed films.\n",
    "\n",
    "6. What are the top recommendations for a specific user, given their unique tastes?\n",
    "    The system tailors recommendations for individual users based on their historical ratings and preferences.\n",
    "\n",
    "7. How can we improve user engagement and retention on our platform?\n",
    "    For businesses, the recommendation system can increase user engagement by providing relevant content, reducing churn, and increasing user satisfaction.\n",
    "\n",
    "8. What is the diversity and coverage of our recommendations?\n",
    "    Businesses can assess the diversity of recommendations to ensure users are exposed to a wide range of movie genres and styles. Additionally, they can measure how many unique movies in their catalog are being recommended.\n",
    "\n",
    "9. How accurate are our recommendations?\n",
    "    Businesses can evaluate the effectiveness of the recommendation system using metrics such as RMSE, MAE, or precision-recall, determining how closely the system's predictions align with user preferences.\n",
    "\n",
    "10. How can we increase revenue through movie recommendations?\n",
    "    Businesses can leverage the recommendation system to drive movie rentals, subscriptions, or sales, thereby increasing revenue and ROI.\n",
    "\n",
    "11. How can we personalize the user experience and increase user-generated content?\n",
    "    By offering tailored recommendations, businesses can encourage users to rate and review movies, contributing to a richer database of user-generated content."
   ]
  },
  {
   "cell_type": "markdown",
   "metadata": {},
   "source": [
    "### Success Criteria"
   ]
  },
  {
   "cell_type": "markdown",
   "metadata": {},
   "source": [
    "The success of our recommendation system will be measured by improvements in key performance indicators (KPIs) including:\n",
    "\n",
    "1. User Engagement: Increased user engagement through higher interaction with recommended movies.\n",
    "2. User Retention: A decrease in user churn rates, indicating improved user satisfaction.\n",
    "3. Revenue: A significant boost in revenue through increased user subscriptions and movie rentals.\n",
    "4. Content Utilization: A broader range of movies being watched, leading to better utilization of the movie catalog."
   ]
  },
  {
   "cell_type": "markdown",
   "metadata": {},
   "source": [
    "## 2. DATA UNDERSTANDING"
   ]
  },
  {
   "cell_type": "markdown",
   "metadata": {},
   "source": [
    "- The dataset is named \"ml-latest-small\" and is from MovieLens, a movie recommendation service.\n",
    "- It includes 100,836 ratings and 3,683 tag applications across 9,742 movies.\n",
    "- The data was generated by 610 users between March 29, 1996, and September 24, 2018.\n",
    "- The dataset was last generated on September 26, 2018.\n",
    "- Users were selected at random, and their demographic information is not included."
   ]
  },
  {
   "cell_type": "markdown",
   "metadata": {},
   "source": [
    "Movie file :\n",
    "1. movieId - movie reference indicator\n",
    "2. title - this is the movie titles\n",
    "3. genres - movie types"
   ]
  },
  {
   "cell_type": "markdown",
   "metadata": {},
   "source": [
    "Rating file :\n",
    "1. userId - users reference indicator\n",
    "2. movieId \n",
    "3. rating - movie rating \n",
    "4. timestamp - movie online information "
   ]
  },
  {
   "cell_type": "markdown",
   "metadata": {},
   "source": [
    "## 3. IMPORTING LIBRARIES"
   ]
  },
  {
   "cell_type": "code",
   "execution_count": 13,
   "metadata": {},
   "outputs": [],
   "source": [
    "import pandas as pd\n",
    "import numpy as np\n",
    "import re\n",
    "import matplotlib.pyplot as plt\n",
    "from sklearn.model_selection import train_test_split\n",
    "from surprise import Dataset, Reader\n",
    "from surprise import SVD\n",
    "from surprise.model_selection import train_test_split\n",
    "from surprise import accuracy\n",
    "from surprise import Dataset, Reader\n"
   ]
  },
  {
   "cell_type": "markdown",
   "metadata": {},
   "source": [
    "## 4. READING DATA "
   ]
  },
  {
   "cell_type": "markdown",
   "metadata": {},
   "source": [
    "Start by opening the data preferably by using the ratings and movies data"
   ]
  },
  {
   "cell_type": "code",
   "execution_count": 14,
   "metadata": {},
   "outputs": [],
   "source": [
    "# Load the ratings data\n",
    "ratings = pd.read_csv(\"C:\\\\Users\\\\Administrator\\\\Desktop\\\\Moringa\\\\Phase 4\\\\Phase 4 Project Recommendation System\\\\ml-latest-small\\\\ml-latest-small\\\\ratings.csv\")\n",
    "# Load the movies data \n",
    "movies = pd.read_csv(\"C:\\\\Users\\\\Administrator\\\\Desktop\\\\Moringa\\\\Phase 4\\\\Phase 4 Project Recommendation System\\\\ml-latest-small\\\\ml-latest-small\\\\movies.csv\")"
   ]
  },
  {
   "cell_type": "code",
   "execution_count": 15,
   "metadata": {},
   "outputs": [
    {
     "data": {
      "text/html": [
       "<div>\n",
       "<style scoped>\n",
       "    .dataframe tbody tr th:only-of-type {\n",
       "        vertical-align: middle;\n",
       "    }\n",
       "\n",
       "    .dataframe tbody tr th {\n",
       "        vertical-align: top;\n",
       "    }\n",
       "\n",
       "    .dataframe thead th {\n",
       "        text-align: right;\n",
       "    }\n",
       "</style>\n",
       "<table border=\"1\" class=\"dataframe\">\n",
       "  <thead>\n",
       "    <tr style=\"text-align: right;\">\n",
       "      <th></th>\n",
       "      <th>userId</th>\n",
       "      <th>movieId</th>\n",
       "      <th>rating</th>\n",
       "      <th>timestamp</th>\n",
       "    </tr>\n",
       "  </thead>\n",
       "  <tbody>\n",
       "    <tr>\n",
       "      <th>0</th>\n",
       "      <td>1</td>\n",
       "      <td>1</td>\n",
       "      <td>4.0</td>\n",
       "      <td>964982703</td>\n",
       "    </tr>\n",
       "    <tr>\n",
       "      <th>1</th>\n",
       "      <td>1</td>\n",
       "      <td>3</td>\n",
       "      <td>4.0</td>\n",
       "      <td>964981247</td>\n",
       "    </tr>\n",
       "    <tr>\n",
       "      <th>2</th>\n",
       "      <td>1</td>\n",
       "      <td>6</td>\n",
       "      <td>4.0</td>\n",
       "      <td>964982224</td>\n",
       "    </tr>\n",
       "    <tr>\n",
       "      <th>3</th>\n",
       "      <td>1</td>\n",
       "      <td>47</td>\n",
       "      <td>5.0</td>\n",
       "      <td>964983815</td>\n",
       "    </tr>\n",
       "    <tr>\n",
       "      <th>4</th>\n",
       "      <td>1</td>\n",
       "      <td>50</td>\n",
       "      <td>5.0</td>\n",
       "      <td>964982931</td>\n",
       "    </tr>\n",
       "  </tbody>\n",
       "</table>\n",
       "</div>"
      ],
      "text/plain": [
       "   userId  movieId  rating  timestamp\n",
       "0       1        1     4.0  964982703\n",
       "1       1        3     4.0  964981247\n",
       "2       1        6     4.0  964982224\n",
       "3       1       47     5.0  964983815\n",
       "4       1       50     5.0  964982931"
      ]
     },
     "execution_count": 15,
     "metadata": {},
     "output_type": "execute_result"
    }
   ],
   "source": [
    "ratings.head()"
   ]
  },
  {
   "cell_type": "code",
   "execution_count": 16,
   "metadata": {},
   "outputs": [
    {
     "data": {
      "text/html": [
       "<div>\n",
       "<style scoped>\n",
       "    .dataframe tbody tr th:only-of-type {\n",
       "        vertical-align: middle;\n",
       "    }\n",
       "\n",
       "    .dataframe tbody tr th {\n",
       "        vertical-align: top;\n",
       "    }\n",
       "\n",
       "    .dataframe thead th {\n",
       "        text-align: right;\n",
       "    }\n",
       "</style>\n",
       "<table border=\"1\" class=\"dataframe\">\n",
       "  <thead>\n",
       "    <tr style=\"text-align: right;\">\n",
       "      <th></th>\n",
       "      <th>movieId</th>\n",
       "      <th>title</th>\n",
       "      <th>genres</th>\n",
       "    </tr>\n",
       "  </thead>\n",
       "  <tbody>\n",
       "    <tr>\n",
       "      <th>0</th>\n",
       "      <td>1</td>\n",
       "      <td>Toy Story (1995)</td>\n",
       "      <td>Adventure|Animation|Children|Comedy|Fantasy</td>\n",
       "    </tr>\n",
       "    <tr>\n",
       "      <th>1</th>\n",
       "      <td>2</td>\n",
       "      <td>Jumanji (1995)</td>\n",
       "      <td>Adventure|Children|Fantasy</td>\n",
       "    </tr>\n",
       "    <tr>\n",
       "      <th>2</th>\n",
       "      <td>3</td>\n",
       "      <td>Grumpier Old Men (1995)</td>\n",
       "      <td>Comedy|Romance</td>\n",
       "    </tr>\n",
       "    <tr>\n",
       "      <th>3</th>\n",
       "      <td>4</td>\n",
       "      <td>Waiting to Exhale (1995)</td>\n",
       "      <td>Comedy|Drama|Romance</td>\n",
       "    </tr>\n",
       "    <tr>\n",
       "      <th>4</th>\n",
       "      <td>5</td>\n",
       "      <td>Father of the Bride Part II (1995)</td>\n",
       "      <td>Comedy</td>\n",
       "    </tr>\n",
       "  </tbody>\n",
       "</table>\n",
       "</div>"
      ],
      "text/plain": [
       "   movieId                               title  \\\n",
       "0        1                    Toy Story (1995)   \n",
       "1        2                      Jumanji (1995)   \n",
       "2        3             Grumpier Old Men (1995)   \n",
       "3        4            Waiting to Exhale (1995)   \n",
       "4        5  Father of the Bride Part II (1995)   \n",
       "\n",
       "                                        genres  \n",
       "0  Adventure|Animation|Children|Comedy|Fantasy  \n",
       "1                   Adventure|Children|Fantasy  \n",
       "2                               Comedy|Romance  \n",
       "3                         Comedy|Drama|Romance  \n",
       "4                                       Comedy  "
      ]
     },
     "execution_count": 16,
     "metadata": {},
     "output_type": "execute_result"
    }
   ],
   "source": [
    "movies.head()"
   ]
  },
  {
   "cell_type": "markdown",
   "metadata": {},
   "source": [
    "Check for missing data on the dataset"
   ]
  },
  {
   "cell_type": "code",
   "execution_count": 17,
   "metadata": {},
   "outputs": [
    {
     "name": "stdout",
     "output_type": "stream",
     "text": [
      "Ratings Data - Missing Values:\n",
      "userId       0\n",
      "movieId      0\n",
      "rating       0\n",
      "timestamp    0\n",
      "dtype: int64\n",
      "\n",
      "Movies Data - Missing Values:\n",
      "movieId    0\n",
      "title      0\n",
      "genres     0\n",
      "dtype: int64\n"
     ]
    }
   ],
   "source": [
    "print(\"Ratings Data - Missing Values:\")\n",
    "print(ratings.isnull().sum())\n",
    "\n",
    "print(\"\\nMovies Data - Missing Values:\")\n",
    "print(movies.isnull().sum())"
   ]
  },
  {
   "cell_type": "markdown",
   "metadata": {},
   "source": [
    "From the illustration above there are no missing values in the Ratings and Movies data"
   ]
  },
  {
   "cell_type": "markdown",
   "metadata": {},
   "source": [
    "Check for duplicates "
   ]
  },
  {
   "cell_type": "code",
   "execution_count": 18,
   "metadata": {},
   "outputs": [],
   "source": [
    "ratings.drop_duplicates(inplace=True)\n",
    "# outlier handling: Identifying and capping outlier ratings\n",
    "outlier_threshold = 5.0\n",
    "ratings['rating'] = ratings['rating'].clip(0.5, outlier_threshold)"
   ]
  },
  {
   "cell_type": "code",
   "execution_count": 19,
   "metadata": {},
   "outputs": [
    {
     "name": "stdout",
     "output_type": "stream",
     "text": [
      "Consistent movie IDs between movies and ratings datasets. \n"
     ]
    }
   ],
   "source": [
    "# Check data consistency: Ensure that movie IDs are consistent across datasets\n",
    "if movies['movieId'].isin(ratings['movieId']).all():\n",
    "    print(\"Inconsistent movie IDs between movies and ratings datasets.\")\n",
    "else:\n",
    "    print(\"Consistent movie IDs between movies and ratings datasets. \")"
   ]
  },
  {
   "cell_type": "code",
   "execution_count": 20,
   "metadata": {},
   "outputs": [
    {
     "data": {
      "text/html": [
       "<div>\n",
       "<style scoped>\n",
       "    .dataframe tbody tr th:only-of-type {\n",
       "        vertical-align: middle;\n",
       "    }\n",
       "\n",
       "    .dataframe tbody tr th {\n",
       "        vertical-align: top;\n",
       "    }\n",
       "\n",
       "    .dataframe thead th {\n",
       "        text-align: right;\n",
       "    }\n",
       "</style>\n",
       "<table border=\"1\" class=\"dataframe\">\n",
       "  <thead>\n",
       "    <tr style=\"text-align: right;\">\n",
       "      <th></th>\n",
       "      <th>userId</th>\n",
       "      <th>movieId</th>\n",
       "      <th>rating</th>\n",
       "    </tr>\n",
       "  </thead>\n",
       "  <tbody>\n",
       "    <tr>\n",
       "      <th>0</th>\n",
       "      <td>1</td>\n",
       "      <td>1</td>\n",
       "      <td>4.0</td>\n",
       "    </tr>\n",
       "    <tr>\n",
       "      <th>1</th>\n",
       "      <td>1</td>\n",
       "      <td>3</td>\n",
       "      <td>4.0</td>\n",
       "    </tr>\n",
       "    <tr>\n",
       "      <th>2</th>\n",
       "      <td>1</td>\n",
       "      <td>6</td>\n",
       "      <td>4.0</td>\n",
       "    </tr>\n",
       "    <tr>\n",
       "      <th>3</th>\n",
       "      <td>1</td>\n",
       "      <td>47</td>\n",
       "      <td>5.0</td>\n",
       "    </tr>\n",
       "    <tr>\n",
       "      <th>4</th>\n",
       "      <td>1</td>\n",
       "      <td>50</td>\n",
       "      <td>5.0</td>\n",
       "    </tr>\n",
       "  </tbody>\n",
       "</table>\n",
       "</div>"
      ],
      "text/plain": [
       "   userId  movieId  rating\n",
       "0       1        1     4.0\n",
       "1       1        3     4.0\n",
       "2       1        6     4.0\n",
       "3       1       47     5.0\n",
       "4       1       50     5.0"
      ]
     },
     "execution_count": 20,
     "metadata": {},
     "output_type": "execute_result"
    }
   ],
   "source": [
    "ratings.drop(columns=['timestamp'], inplace=True)\n",
    "ratings.head()"
   ]
  },
  {
   "cell_type": "markdown",
   "metadata": {},
   "source": [
    "### Feature Engineering"
   ]
  },
  {
   "cell_type": "code",
   "execution_count": 21,
   "metadata": {},
   "outputs": [],
   "source": [
    "# Calculate the average rating for each movie\n",
    "average_ratings = ratings.groupby('movieId')['rating'].mean().reset_index()\n",
    "average_ratings.rename(columns={'rating': 'avg_rating'}, inplace=True)"
   ]
  },
  {
   "cell_type": "code",
   "execution_count": 22,
   "metadata": {},
   "outputs": [],
   "source": [
    "# Assuming genres are in the \"genres\" column and are pipe-separated\n",
    "unique_genres = set('|'.join(movies['genres']).split('|'))\n",
    "for genre in unique_genres:\n",
    "    movies[genre] = movies['genres'].apply(lambda x: 1 if genre in x else 0)"
   ]
  },
  {
   "cell_type": "code",
   "execution_count": 23,
   "metadata": {},
   "outputs": [
    {
     "name": "stdout",
     "output_type": "stream",
     "text": [
      "Average Ratings for Movies:\n",
      "   movieId  avg_rating\n",
      "0        1    3.920930\n",
      "1        2    3.431818\n",
      "2        3    3.259615\n",
      "3        4    2.357143\n",
      "4        5    3.071429\n",
      "\n",
      "Movies DataFrame with Genre-Based Features:\n",
      "   movieId                               title  \\\n",
      "0        1                    Toy Story (1995)   \n",
      "1        2                      Jumanji (1995)   \n",
      "2        3             Grumpier Old Men (1995)   \n",
      "3        4            Waiting to Exhale (1995)   \n",
      "4        5  Father of the Bride Part II (1995)   \n",
      "\n",
      "                                        genres  Adventure  Drama  Horror  \\\n",
      "0  Adventure|Animation|Children|Comedy|Fantasy          1      0       0   \n",
      "1                   Adventure|Children|Fantasy          1      0       0   \n",
      "2                               Comedy|Romance          0      0       0   \n",
      "3                         Comedy|Drama|Romance          0      1       0   \n",
      "4                                       Comedy          0      0       0   \n",
      "\n",
      "   Sci-Fi  Crime  Romance  Musical  ...  IMAX  Fantasy  Film-Noir  \\\n",
      "0       0      0        0        0  ...     0        1          0   \n",
      "1       0      0        0        0  ...     0        1          0   \n",
      "2       0      0        1        0  ...     0        0          0   \n",
      "3       0      0        1        0  ...     0        0          0   \n",
      "4       0      0        0        0  ...     0        0          0   \n",
      "\n",
      "   (no genres listed)  Animation  Action  War  Comedy  Western  Documentary  \n",
      "0                   0          1       0    0       1        0            0  \n",
      "1                   0          0       0    0       0        0            0  \n",
      "2                   0          0       0    0       1        0            0  \n",
      "3                   0          0       0    0       1        0            0  \n",
      "4                   0          0       0    0       1        0            0  \n",
      "\n",
      "[5 rows x 23 columns]\n"
     ]
    }
   ],
   "source": [
    "# Display the first few rows of the resulting DataFrame\n",
    "print(\"Average Ratings for Movies:\")\n",
    "print(average_ratings.head())\n",
    "\n",
    "print(\"\\nMovies DataFrame with Genre-Based Features:\")\n",
    "print(movies.head())"
   ]
  },
  {
   "cell_type": "markdown",
   "metadata": {},
   "source": [
    "Create a feature that counts the number of ratings each movie has received. Movies with a higher number of ratings may be more popular or well-known."
   ]
  },
  {
   "cell_type": "code",
   "execution_count": 24,
   "metadata": {},
   "outputs": [
    {
     "name": "stdout",
     "output_type": "stream",
     "text": [
      "Number of Ratings for Each Movie:\n",
      "   movieId  num_ratings\n",
      "0      356          329\n",
      "1      318          317\n",
      "2      296          307\n",
      "3      593          279\n",
      "4     2571          278\n"
     ]
    }
   ],
   "source": [
    "# Calculate the number of ratings for each movie\n",
    "movie_rating_counts = ratings['movieId'].value_counts().reset_index()\n",
    "movie_rating_counts.columns = ['movieId', 'num_ratings']\n",
    "\n",
    "# Display the first few rows of the resulting DataFrame\n",
    "print(\"Number of Ratings for Each Movie:\")\n",
    "print(movie_rating_counts.head())"
   ]
  },
  {
   "cell_type": "markdown",
   "metadata": {},
   "source": [
    "Genre Based:\n",
    "\n",
    "Create binary columns for each genre (e.g., Action, Comedy, Romance) and indicate whether a movie belongs to a particular genre. These binary indicators can be used in content-based filtering.\n",
    "Calculate the proportion of each genre in a movie's genre list (e.g., the percentage of Action movies)."
   ]
  },
  {
   "cell_type": "code",
   "execution_count": 25,
   "metadata": {},
   "outputs": [
    {
     "name": "stdout",
     "output_type": "stream",
     "text": [
      "Movies DataFrame with Binary Genre-Based Columns:\n",
      "   movieId                               title  \\\n",
      "0        1                    Toy Story (1995)   \n",
      "1        2                      Jumanji (1995)   \n",
      "2        3             Grumpier Old Men (1995)   \n",
      "3        4            Waiting to Exhale (1995)   \n",
      "4        5  Father of the Bride Part II (1995)   \n",
      "\n",
      "                                        genres  Adventure     Drama  Horror  \\\n",
      "0  Adventure|Animation|Children|Comedy|Fantasy   0.200000  0.000000     0.0   \n",
      "1                   Adventure|Children|Fantasy   0.333333  0.000000     0.0   \n",
      "2                               Comedy|Romance   0.000000  0.000000     0.0   \n",
      "3                         Comedy|Drama|Romance   0.000000  0.333333     0.0   \n",
      "4                                       Comedy   0.000000  0.000000     0.0   \n",
      "\n",
      "   Sci-Fi  Crime   Romance  Musical  ...  IMAX   Fantasy  Film-Noir  \\\n",
      "0     0.0    0.0  0.000000      0.0  ...   0.0  0.200000        0.0   \n",
      "1     0.0    0.0  0.000000      0.0  ...   0.0  0.333333        0.0   \n",
      "2     0.0    0.0  0.500000      0.0  ...   0.0  0.000000        0.0   \n",
      "3     0.0    0.0  0.333333      0.0  ...   0.0  0.000000        0.0   \n",
      "4     0.0    0.0  0.000000      0.0  ...   0.0  0.000000        0.0   \n",
      "\n",
      "   (no genres listed)  Animation  Action  War    Comedy  Western  Documentary  \n",
      "0                 0.0        0.2     0.0  0.0  0.200000      0.0          0.0  \n",
      "1                 0.0        0.0     0.0  0.0  0.000000      0.0          0.0  \n",
      "2                 0.0        0.0     0.0  0.0  0.500000      0.0          0.0  \n",
      "3                 0.0        0.0     0.0  0.0  0.333333      0.0          0.0  \n",
      "4                 0.0        0.0     0.0  0.0  1.000000      0.0          0.0  \n",
      "\n",
      "[5 rows x 23 columns]\n"
     ]
    }
   ],
   "source": [
    "# Extract unique genres\n",
    "unique_genres = set('|'.join(movies['genres']).split('|'))\n",
    "\n",
    "# Create binary genre-based columns\n",
    "for genre in unique_genres:\n",
    "    movies[genre] = movies['genres'].apply(lambda x: 1 if genre in x else 0)\n",
    "\n",
    "# Calculate the proportion of each genre in a movie's genre list\n",
    "genre_columns = list(unique_genres)\n",
    "movies[genre_columns] = movies[genre_columns].div(movies[genre_columns].sum(axis=1), axis=0)\n",
    "\n",
    "# Display the first few rows of the resulting DataFrame\n",
    "print(\"Movies DataFrame with Binary Genre-Based Columns:\")\n",
    "print(movies.head())"
   ]
  },
  {
   "cell_type": "markdown",
   "metadata": {},
   "source": [
    "Release Year:\n",
    "\n",
    "Extract the release year from movie titles and create a feature for the movie's release year. This can be used to recommend recent movies or movies from a specific era."
   ]
  },
  {
   "cell_type": "code",
   "execution_count": 26,
   "metadata": {},
   "outputs": [
    {
     "name": "stdout",
     "output_type": "stream",
     "text": [
      "Movies DataFrame with Release Year:\n",
      "   movieId                               title  \\\n",
      "0        1                    Toy Story (1995)   \n",
      "1        2                      Jumanji (1995)   \n",
      "2        3             Grumpier Old Men (1995)   \n",
      "3        4            Waiting to Exhale (1995)   \n",
      "4        5  Father of the Bride Part II (1995)   \n",
      "\n",
      "                                        genres  Adventure     Drama  Horror  \\\n",
      "0  Adventure|Animation|Children|Comedy|Fantasy   0.200000  0.000000     0.0   \n",
      "1                   Adventure|Children|Fantasy   0.333333  0.000000     0.0   \n",
      "2                               Comedy|Romance   0.000000  0.000000     0.0   \n",
      "3                         Comedy|Drama|Romance   0.000000  0.333333     0.0   \n",
      "4                                       Comedy   0.000000  0.000000     0.0   \n",
      "\n",
      "   Sci-Fi  Crime   Romance  Musical  ...   Fantasy  Film-Noir  \\\n",
      "0     0.0    0.0  0.000000      0.0  ...  0.200000        0.0   \n",
      "1     0.0    0.0  0.000000      0.0  ...  0.333333        0.0   \n",
      "2     0.0    0.0  0.500000      0.0  ...  0.000000        0.0   \n",
      "3     0.0    0.0  0.333333      0.0  ...  0.000000        0.0   \n",
      "4     0.0    0.0  0.000000      0.0  ...  0.000000        0.0   \n",
      "\n",
      "   (no genres listed)  Animation  Action  War    Comedy  Western  Documentary  \\\n",
      "0                 0.0        0.2     0.0  0.0  0.200000      0.0          0.0   \n",
      "1                 0.0        0.0     0.0  0.0  0.000000      0.0          0.0   \n",
      "2                 0.0        0.0     0.0  0.0  0.500000      0.0          0.0   \n",
      "3                 0.0        0.0     0.0  0.0  0.333333      0.0          0.0   \n",
      "4                 0.0        0.0     0.0  0.0  1.000000      0.0          0.0   \n",
      "\n",
      "   release_year  \n",
      "0          1995  \n",
      "1          1995  \n",
      "2          1995  \n",
      "3          1995  \n",
      "4          1995  \n",
      "\n",
      "[5 rows x 24 columns]\n"
     ]
    }
   ],
   "source": [
    "# Assuming that the release year is enclosed in parentheses at the end of the title\n",
    "movies['release_year'] = movies['title'].str.extract(r'\\((\\d{4})\\)')\n",
    "\n",
    "# Display the first few rows of the resulting DataFrame\n",
    "print(\"Movies DataFrame with Release Year:\")\n",
    "print(movies.head())"
   ]
  },
  {
   "cell_type": "markdown",
   "metadata": {},
   "source": [
    "User-Based Features:\n",
    "\n",
    "For collaborative filtering, you can create user-based features such as the average rating given by each user or the number of movies each user has rated."
   ]
  },
  {
   "cell_type": "code",
   "execution_count": 27,
   "metadata": {},
   "outputs": [
    {
     "name": "stdout",
     "output_type": "stream",
     "text": [
      "Average Rating Given by Each User:\n",
      "   userId  avg_rating_by_user\n",
      "0       1            4.366379\n",
      "1       2            3.948276\n",
      "2       3            2.435897\n",
      "3       4            3.555556\n",
      "4       5            3.636364\n",
      "\n",
      "Number of Movies Rated by Each User:\n",
      "   userId  num_movies_rated\n",
      "0     414              2698\n",
      "1     599              2478\n",
      "2     474              2108\n",
      "3     448              1864\n",
      "4     274              1346\n"
     ]
    }
   ],
   "source": [
    "# Calculate the average rating given by each user\n",
    "user_avg_rating = ratings.groupby('userId')['rating'].mean().reset_index()\n",
    "user_avg_rating.rename(columns={'rating': 'avg_rating_by_user'}, inplace=True)\n",
    "\n",
    "# Calculate the number of movies each user has rated\n",
    "user_rating_counts = ratings['userId'].value_counts().reset_index()\n",
    "user_rating_counts.columns = ['userId', 'num_movies_rated']\n",
    "\n",
    "# Display the first few rows of the resulting DataFrames\n",
    "print(\"Average Rating Given by Each User:\")\n",
    "print(user_avg_rating.head())\n",
    "\n",
    "print(\"\\nNumber of Movies Rated by Each User:\")\n",
    "print(user_rating_counts.head())"
   ]
  },
  {
   "cell_type": "markdown",
   "metadata": {},
   "source": [
    "## 5. MODELLING"
   ]
  },
  {
   "cell_type": "markdown",
   "metadata": {},
   "source": [
    "Generate latent factors or embeddings for movies and users using matrix factorization techniques like Singular Value Decomposition (SVD) or matrix factorization models. These embeddings can be used to capture complex relationships."
   ]
  },
  {
   "cell_type": "markdown",
   "metadata": {},
   "source": [
    "Also by training the SVD Model set and fit the model "
   ]
  },
  {
   "cell_type": "code",
   "execution_count": 36,
   "metadata": {},
   "outputs": [
    {
     "name": "stdout",
     "output_type": "stream",
     "text": [
      "RMSE: 0.8775\n",
      "Root Mean Squared Error (RMSE): 0.8774680781839199\n"
     ]
    }
   ],
   "source": [
    "# Define the Reader object\n",
    "reader = Reader(rating_scale=(0.5, 5.0))  # Define your rating scale as appropriate\n",
    "\n",
    "# Load the ratings data using the Reader\n",
    "data = Dataset.load_from_df(ratings[['userId', 'movieId', 'rating']], reader)\n",
    "\n",
    "# Split the dataset into a trainset and testset\n",
    "trainset, testset = train_test_split(data, test_size=0.2, random_state=42)\n",
    "\n",
    "# Create and train an SVD model\n",
    "svd_model = SVD(n_factors=50, random_state=42)\n",
    "svd_model.fit(trainset)\n",
    "\n",
    "# Make predictions on the test set\n",
    "predictions = svd_model.test(testset)\n",
    "\n",
    "# Evaluate the model using RMSE\n",
    "rmse = accuracy.rmse(predictions)\n",
    "print(f\"Root Mean Squared Error (RMSE): {rmse}\")\n",
    "\n",
    "# Get latent factors for movies and users\n",
    "movie_factors = svd_model.qi\n",
    "user_factors = svd_model.pu"
   ]
  },
  {
   "cell_type": "markdown",
   "metadata": {},
   "source": [
    " RMSE value of 0.8775 indicates the average error (or the average difference) between the predicted ratings by the recommendation system and the actual ratings given by users. Lower RMSE values indicate better accuracy, while higher values suggest that the predictions are less accurate."
   ]
  },
  {
   "cell_type": "markdown",
   "metadata": {},
   "source": [
    "Lets make a simple prediction to see the outcome."
   ]
  },
  {
   "cell_type": "code",
   "execution_count": 37,
   "metadata": {},
   "outputs": [
    {
     "name": "stdout",
     "output_type": "stream",
     "text": [
      "Predicted rating for user 1 and movie 100: 3.661648275505914\n"
     ]
    }
   ],
   "source": [
    "# Predict the rating for user 1 and movie 100\n",
    "predicted_rating = svd_model.predict(1, 100)\n",
    "\n",
    "# Extract the predicted rating value\n",
    "predicted_rating_value = predicted_rating.est\n",
    "\n",
    "print(f\"Predicted rating for user 1 and movie 100: {predicted_rating_value}\")"
   ]
  },
  {
   "cell_type": "markdown",
   "metadata": {},
   "source": [
    "to determine the best model.Compare the different models and see which ones perform best. For consistency sake, use RMSE to evaluate models. Can it get a model with a higher average RMSE on test data than 0.877?"
   ]
  },
  {
   "cell_type": "code",
   "execution_count": 38,
   "metadata": {},
   "outputs": [
    {
     "name": "stderr",
     "output_type": "stream",
     "text": [
      "[Parallel(n_jobs=-1)]: Using backend LokyBackend with 8 concurrent workers.\n",
      "[Parallel(n_jobs=-1)]: Done   2 tasks      | elapsed:    6.7s\n",
      "[Parallel(n_jobs=-1)]: Done  56 tasks      | elapsed:   45.3s\n",
      "[Parallel(n_jobs=-1)]: Done 146 tasks      | elapsed:  2.2min\n"
     ]
    },
    {
     "name": "stdout",
     "output_type": "stream",
     "text": [
      "Best RMSE: 0.8630795161670323\n",
      "Best Parameters: {'n_factors': 150, 'n_epochs': 30, 'lr_all': 0.01, 'reg_all': 0.06}\n"
     ]
    },
    {
     "name": "stderr",
     "output_type": "stream",
     "text": [
      "[Parallel(n_jobs=-1)]: Done 243 out of 243 | elapsed:  4.2min finished\n"
     ]
    }
   ],
   "source": [
    "from surprise.model_selection import GridSearchCV\n",
    "# Define the parameter grid for SVD\n",
    "param_grid = {\n",
    "    'n_factors': [50, 100, 150],\n",
    "    'n_epochs': [20, 30, 40],\n",
    "    'lr_all': [0.002, 0.005, 0.01],\n",
    "    'reg_all': [0.02, 0.04, 0.06]\n",
    "}\n",
    "\n",
    "# Create a GridSearchCV object\n",
    "grid_search = GridSearchCV(SVD, param_grid, measures=['rmse'], cv=3, n_jobs=-1, joblib_verbose=5)\n",
    "\n",
    "# Fit the grid search on the data\n",
    "grid_search.fit(data)\n",
    "\n",
    "# Get the best RMSE score and corresponding parameters\n",
    "best_rmse = grid_search.best_score['rmse']\n",
    "best_params = grid_search.best_params['rmse']\n",
    "\n",
    "print(f\"Best RMSE: {best_rmse}\")\n",
    "print(f\"Best Parameters: {best_params}\")"
   ]
  },
  {
   "cell_type": "markdown",
   "metadata": {},
   "source": [
    "It is going to apply KNN basic model to evaluate"
   ]
  },
  {
   "cell_type": "code",
   "execution_count": 39,
   "metadata": {},
   "outputs": [
    {
     "name": "stdout",
     "output_type": "stream",
     "text": [
      "Computing the msd similarity matrix...\n",
      "Done computing similarity matrix.\n",
      "Computing the msd similarity matrix...\n",
      "Done computing similarity matrix.\n",
      "Computing the msd similarity matrix...\n",
      "Done computing similarity matrix.\n",
      "Computing the msd similarity matrix...\n",
      "Done computing similarity matrix.\n",
      "Computing the msd similarity matrix...\n",
      "Done computing similarity matrix.\n",
      "Evaluating RMSE, MAE of algorithm KNNBasic on 5 split(s).\n",
      "\n",
      "                  Fold 1  Fold 2  Fold 3  Fold 4  Fold 5  Mean    Std     \n",
      "RMSE (testset)    0.9399  0.9513  0.9377  0.9508  0.9533  0.9466  0.0064  \n",
      "MAE (testset)     0.7213  0.7277  0.7211  0.7294  0.7287  0.7256  0.0037  \n",
      "Fit time          0.53    0.53    0.54    0.55    0.55    0.54    0.01    \n",
      "Test time         3.33    3.83    3.46    3.40    3.92    3.59    0.24    \n",
      "Average RMSE: 0.9465899460188847\n",
      "Average MAE: 0.7256387075421818\n"
     ]
    }
   ],
   "source": [
    "from surprise import KNNBasic\n",
    "from surprise.model_selection import cross_validate\n",
    "# Define the KNNBasic model\n",
    "knn_basic_model = KNNBasic(sim_options={'user_based': True})\n",
    "\n",
    "# Perform cross-validation\n",
    "results = cross_validate(knn_basic_model, data, measures=['RMSE', 'MAE'], cv=5, verbose=True)\n",
    "\n",
    "# Extract and print the average RMSE and MAE scores\n",
    "average_rmse = results['test_rmse'].mean()\n",
    "average_mae = results['test_mae'].mean()\n",
    "\n",
    "print(f\"Average RMSE: {average_rmse}\")\n",
    "print(f\"Average MAE: {average_mae}\")"
   ]
  },
  {
   "cell_type": "markdown",
   "metadata": {},
   "source": [
    "Lower RMSE(Root Mean Squared Error) and MAE (Mean Absolute Error) values are desirable because they indicate that the model's predictions are closer to the actual ratings. "
   ]
  },
  {
   "cell_type": "markdown",
   "metadata": {},
   "source": [
    "Lets use the KNNBaseline model"
   ]
  },
  {
   "cell_type": "code",
   "execution_count": 40,
   "metadata": {},
   "outputs": [
    {
     "name": "stdout",
     "output_type": "stream",
     "text": [
      "Estimating biases using als...\n",
      "Computing the msd similarity matrix...\n",
      "Done computing similarity matrix.\n",
      "Estimating biases using als...\n",
      "Computing the msd similarity matrix...\n",
      "Done computing similarity matrix.\n",
      "Estimating biases using als...\n",
      "Computing the msd similarity matrix...\n",
      "Done computing similarity matrix.\n",
      "Estimating biases using als...\n",
      "Computing the msd similarity matrix...\n",
      "Done computing similarity matrix.\n",
      "Estimating biases using als...\n",
      "Computing the msd similarity matrix...\n",
      "Done computing similarity matrix.\n",
      "Evaluating RMSE, MAE of algorithm KNNBaseline on 5 split(s).\n",
      "\n",
      "                  Fold 1  Fold 2  Fold 3  Fold 4  Fold 5  Mean    Std     \n",
      "RMSE (testset)    0.8766  0.8721  0.8727  0.8708  0.8817  0.8748  0.0040  \n",
      "MAE (testset)     0.6672  0.6696  0.6653  0.6641  0.6739  0.6680  0.0035  \n",
      "Fit time          0.98    1.04    1.09    1.15    1.09    1.07    0.06    \n",
      "Test time         4.77    4.22    4.19    4.20    4.20    4.32    0.23    \n",
      "Average RMSE: 0.874789475108738\n",
      "Average MAE: 0.6680289196040078\n"
     ]
    }
   ],
   "source": [
    "from surprise import KNNBaseline\n",
    "from surprise.model_selection import cross_validate\n",
    "\n",
    "# Define the KNNBaseline model\n",
    "knn_baseline_model = KNNBaseline(sim_options={'user_based': True})\n",
    "\n",
    "# Perform cross-validation\n",
    "results = cross_validate(knn_baseline_model, data, measures=['RMSE', 'MAE'], cv=5, verbose=True)\n",
    "\n",
    "# Extract and print the average RMSE and MAE scores\n",
    "average_rmse = results['test_rmse'].mean()\n",
    "average_mae = results['test_mae'].mean()\n",
    "\n",
    "print(f\"Average RMSE: {average_rmse}\")\n",
    "print(f\"Average MAE: {average_mae}\")"
   ]
  },
  {
   "cell_type": "markdown",
   "metadata": {},
   "source": [
    "It appears to have lower RMSE and MAE compared to the KNNBasic model, suggesting better accuracy. The fit time and test time measurements give you an idea of the computational efficiency of the model."
   ]
  },
  {
   "cell_type": "markdown",
   "metadata": {},
   "source": [
    "### Testing the models with Random data "
   ]
  },
  {
   "cell_type": "markdown",
   "metadata": {},
   "source": [
    "we have working models and everything, but wouldn't it be nice to get to recommendations specifically tailored to your preferences? That's what we'll be doing now. The first step is to create a function that allows us to pick randomly selected movies. The function should present users with a movie and ask them to rate it. If they have not seen the movie, they should be able to skip rating it."
   ]
  },
  {
   "cell_type": "code",
   "execution_count": 42,
   "metadata": {},
   "outputs": [],
   "source": [
    "def movie_rater(movie_df, num, genre=None):\n",
    "    \"\"\"\n",
    "    Rate randomly selected movies and return a list of ratings in the format of {'userId': int, 'movieId': int, 'rating': float}.\n",
    "\n",
    "    Parameters:\n",
    "    - movie_df: DataFrame - DataFrame containing movie ids, movie names, and genres.\n",
    "    - num: int - Number of ratings to collect from the user.\n",
    "    - genre: str (optional) - Specify a genre to filter movies. If None, all movies will be considered.\n",
    "\n",
    "    Returns:\n",
    "    - rating_list: list - A list of dictionaries with user ratings.\n",
    "    \"\"\"\n",
    "    rating_list = []\n",
    "    user_id = 9999  # Assign a unique user ID for the user (you can adjust this as needed)\n",
    "\n",
    "    # Filter movies by genre if specified\n",
    "    if genre:\n",
    "        movie_subset = movie_df[movie_df['genres'].str.contains(genre, case=False, na=False)]\n",
    "    else:\n",
    "        movie_subset = movie_df\n",
    "\n",
    "    # Randomly select movies for rating\n",
    "    random_movies = random.sample(range(len(movie_subset)), num)\n",
    "\n",
    "    for idx in random_movies:\n",
    "        movie = movie_subset.iloc[idx]\n",
    "        movie_id = movie['movieId']\n",
    "        movie_title = movie['title']\n",
    "\n",
    "        # Prompt the user for a rating (0.5 to 5.0) or skip (None)\n",
    "        rating = None\n",
    "        while rating is None:\n",
    "            try:\n",
    "                rating = float(input(f\"Rate '{movie_title}' (Movie ID: {movie_id}): \"))\n",
    "                if rating < 0.5 or rating > 5.0:\n",
    "                    print(\"Please enter a rating between 0.5 and 5.0.\")\n",
    "                    rating = None\n",
    "            except ValueError:\n",
    "                print(\"Invalid input. Please enter a valid rating or 'skip'.\")\n",
    "\n",
    "        # Add the user rating to the list\n",
    "        rating_dict = {'userId': user_id, 'movieId': movie_id, 'rating': rating}\n",
    "        rating_list.append(rating_dict)\n",
    "\n",
    "    return rating_list\n"
   ]
  },
  {
   "cell_type": "code",
   "execution_count": 50,
   "metadata": {},
   "outputs": [
    {
     "name": "stdout",
     "output_type": "stream",
     "text": [
      "Rate 'Jason Bourne (2016)' (Movie ID: 160438): 5\n",
      "Rate 'Legend, The (Legend of Fong Sai-Yuk, The) (Fong Sai Yuk) (1993)' (Movie ID: 7844): 3\n",
      "Rate 'Get Carter (1971)' (Movie ID: 3947): 4\n",
      "Rate 'Five Element Ninjas (1982)' (Movie ID: 135803): 4\n",
      "Rate 'Victory (a.k.a. Escape to Victory) (1981)' (Movie ID: 5915): 4\n",
      "User Ratings:\n",
      "[{'userId': 9999, 'movieId': 160438, 'rating': 5.0}, {'userId': 9999, 'movieId': 7844, 'rating': 3.0}, {'userId': 9999, 'movieId': 3947, 'rating': 4.0}, {'userId': 9999, 'movieId': 135803, 'rating': 4.0}, {'userId': 9999, 'movieId': 5915, 'rating': 4.0}]\n"
     ]
    }
   ],
   "source": [
    "import random \n",
    "new_ratings = movie_rater(movies, num=5, genre=\"Action\")\n",
    "\n",
    "# Display the collected ratings\n",
    "print(\"User Ratings:\")\n",
    "print(new_ratings)"
   ]
  },
  {
   "cell_type": "code",
   "execution_count": 54,
   "metadata": {},
   "outputs": [
    {
     "name": "stdout",
     "output_type": "stream",
     "text": [
      "   userId  movieId  rating\n",
      "0    9999   160438     5.0\n",
      "1    9999     7844     3.0\n",
      "2    9999     3947     4.0\n",
      "3    9999   135803     4.0\n",
      "4    9999     5915     4.0\n"
     ]
    }
   ],
   "source": [
    "# Assuming new_ratings is a list of dictionaries\n",
    "new_ratings_df = pd.DataFrame(new_ratings)\n",
    "\n",
    "# Check the format of new_ratings_df\n",
    "print(new_ratings_df.head())"
   ]
  },
  {
   "cell_type": "code",
   "execution_count": 57,
   "metadata": {},
   "outputs": [],
   "source": [
    "ratings = pd.DataFrame(ratings)\n",
    "\n",
    "# Assuming new_ratings is a list of dictionaries\n",
    "new_ratings = pd.DataFrame(new_ratings)"
   ]
  },
  {
   "cell_type": "code",
   "execution_count": 58,
   "metadata": {},
   "outputs": [],
   "source": [
    "updated_ratings = pd.concat([ratings, new_ratings], ignore_index=True)\n"
   ]
  },
  {
   "cell_type": "code",
   "execution_count": 59,
   "metadata": {},
   "outputs": [],
   "source": [
    "# Create a Reader object to specify the rating scale\n",
    "reader = Reader(rating_scale=(1, 5))  # Assuming ratings are on a scale from 1 to 5\n",
    "\n",
    "# Load the dataset from the DataFrame using the Reader\n",
    "data = Dataset.load_from_df(updated_ratings[['userId', 'movieId', 'rating']], reader)"
   ]
  },
  {
   "cell_type": "markdown",
   "metadata": {},
   "source": [
    "### Making predicitions with the new ratings"
   ]
  },
  {
   "cell_type": "code",
   "execution_count": 64,
   "metadata": {},
   "outputs": [
    {
     "name": "stdout",
     "output_type": "stream",
     "text": [
      "RMSE: 1.3723\n",
      "RMSE: 1.3722659857632973\n"
     ]
    }
   ],
   "source": [
    "# Use the best parameters obtained from grid search (replace with your actual best parameters)\n",
    "best_svd_params = {'n_factors': 100, 'n_epochs': 20, 'lr_all': 0.005, 'reg_all': 0.02}\n",
    "\n",
    "# Initialize the SVD model with the best parameters\n",
    "svd_model = SVD(n_factors=50, random_state=42)\n",
    "\n",
    "reader = Reader(rating_scale=(1, 5))\n",
    "data = Dataset.load_from_df(updated_ratings[['userId', 'movieId', 'rating']], reader)\n",
    "\n",
    "# Split the dataset into training and testing sets\n",
    "trainset, testset = train_test_split(data, test_size=0.2, random_state=42)\n",
    "\n",
    "# Train the SVD model on the training set\n",
    "svd_model.fit(trainset)\n",
    "\n",
    "# Make predictions on the test set\n",
    "predictions = svd_model.test(testset)\n",
    "\n",
    "# Calculate and print RMSE (Root Mean Squared Error) to evaluate the model's performance\n",
    "rmse = accuracy.rmse(predictions)\n",
    "print(f\"RMSE: {rmse}\")"
   ]
  },
  {
   "cell_type": "code",
   "execution_count": 65,
   "metadata": {},
   "outputs": [
    {
     "name": "stdout",
     "output_type": "stream",
     "text": [
      "Recommendation 1: Movie ID 160565, Predicted Score 4.604336084467107\n",
      "Recommendation 2: Movie ID 3404, Predicted Score 4.41122272900279\n",
      "Recommendation 3: Movie ID 2196, Predicted Score 4.372265985763297\n",
      "Recommendation 4: Movie ID 111362, Predicted Score 4.290131213012642\n",
      "Recommendation 5: Movie ID 161594, Predicted Score 4.266474093639642\n"
     ]
    }
   ],
   "source": [
    "#user example to use for this test\n",
    "user_id = 9999\n",
    "\n",
    "# Get a list of all movieIds in your dataset\n",
    "all_movie_ids = ratings['movieId'].unique()\n",
    "\n",
    "# Initialize an empty list to store movie recommendations in the format (movie_id, predicted_score)\n",
    "user_recommendations = []\n",
    "\n",
    "# Generate predictions for the selected user\n",
    "for movie_id in all_movie_ids:\n",
    "    # Predict the user's rating for this movie using your trained SVD model\n",
    "    predicted_rating = svd_model.predict(user_id, movie_id).est\n",
    "    \n",
    "    # Append the movie_id and predicted_score to the recommendations list\n",
    "    user_recommendations.append((movie_id, predicted_rating))\n",
    "\n",
    "# Sort the recommendations by predicted_score in descending order\n",
    "user_recommendations.sort(key=lambda x: x[1], reverse=True)\n",
    "\n",
    "# Display the top N movie recommendations (e.g., top 10)\n",
    "top_n_recommendations = user_recommendations[:10]\n",
    "for i, (movie_id, predicted_score) in enumerate(top_n_recommendations, start=1):\n",
    "    print(f\"Recommendation {i}: Movie ID {movie_id}, Predicted Score {predicted_score}\")"
   ]
  },
  {
   "cell_type": "code",
   "execution_count": 66,
   "metadata": {},
   "outputs": [],
   "source": [
    "def recommended_movies(user_ratings, movie_title_df, n):\n",
    "    # Create a dictionary to map movie IDs to movie titles\n",
    "    movie_id_to_title = dict(zip(movie_title_df['movieId'], movie_title_df['title']))\n",
    "\n",
    "    # Print a header\n",
    "    print(f\"Top {n} Recommended Movies for User\")\n",
    "\n",
    "    # Iterate through the user_ratings and print the top N recommendations\n",
    "    for i, (user_id, movie_id) in enumerate(user_ratings, 1):\n",
    "        # Check if the movie ID exists in the movie title DataFrame\n",
    "        if movie_id in movie_id_to_title:\n",
    "            movie_title = movie_id_to_title[movie_id]\n",
    "            print(f\"{i}. {movie_title}\")\n",
    "\n",
    "            # Stop when we have printed the top N recommendations\n",
    "            if i >= n:\n",
    "                break"
   ]
  },
  {
   "cell_type": "code",
   "execution_count": null,
   "metadata": {},
   "outputs": [],
   "source": []
  }
 ],
 "metadata": {
  "kernelspec": {
   "display_name": "Python 3 (ipykernel)",
   "language": "python",
   "name": "python3"
  },
  "language_info": {
   "codemirror_mode": {
    "name": "ipython",
    "version": 3
   },
   "file_extension": ".py",
   "mimetype": "text/x-python",
   "name": "python",
   "nbconvert_exporter": "python",
   "pygments_lexer": "ipython3",
   "version": "3.10.11"
  }
 },
 "nbformat": 4,
 "nbformat_minor": 2
}
